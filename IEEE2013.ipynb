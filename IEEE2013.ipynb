{
 "metadata": {
  "name": ""
 },
 "nbformat": 3,
 "nbformat_minor": 0,
 "worksheets": [
  {
   "cells": [
    {
     "cell_type": "markdown",
     "metadata": {},
     "source": [
      "This notebook describes how the two result figures on the poster are generated. Our first task was to generate all possible linearly-separable functions. To check that we generated all functions we counted them and compared the number of function we obtained with the number of linearly separable functions found in the literature (Muroga 1971 p.38).\n",
      "\n",
      "We generate them using a bruteforce method: by exhaustively enumerating all combination of integer valued parameter set between $[w_{min},w_{max}]$ and $[\\Theta_{min},\\Theta_{max}]$.\n",
      "\n",
      "As a preambule we should be able to generate the set of vector to classify."
     ]
    },
    {
     "cell_type": "code",
     "collapsed": false,
     "input": [
      "def iptgen(n):\n",
      "    \"\"\"Generate a set of input vector with n components and containing\n",
      "    equal/different number of ones given ex\n",
      "\n",
      "    Parameters\n",
      "    ----------\n",
      "    n : int\n",
      "        number of components in each vectors\n",
      "\n",
      "    Returns\n",
      "    -------\n",
      "    ipt : array int\n",
      "        set of 0/1 vectors to be classified\n",
      "    \"\"\"\n",
      "    ipt = [[int(j) for j in np.binary_repr(i, n)] for i in range(2**n)]\n",
      "    return np.array(ipt, dtype=np.int)"
     ],
     "language": "python",
     "metadata": {},
     "outputs": [],
     "prompt_number": 51
    },
    {
     "cell_type": "heading",
     "level": 1,
     "metadata": {},
     "source": [
      "Generating all weight combination"
     ]
    },
    {
     "cell_type": "markdown",
     "metadata": {},
     "source": [
      "This function generate the integration in two different ways either the weight is designed in a systematic fashion (order matter) or as a combination with replacement so that w_{i} \\ge w_{j}$ if $i > j$. It might not be the fatest, but the straightforward method is to use the itertools built-in functions."
     ]
    },
    {
     "cell_type": "code",
     "collapsed": false,
     "input": [
      "import numpy as np\n",
      "from itertools import product as prod\n",
      "from itertools import combinations_with_replacement as comb\n",
      "def integration_result(n, min_weight, max_weight, order=True):\n",
      "    \"\"\"Generate the list of all possible integration result\"\"\"\n",
      "    #Generate the complete set of inputs\n",
      "    ipt = iptgen(n)\n",
      "    ipt = np.rot90(ipt)\n",
      "    \n",
      "    #Generate all possible combination of weight with replacement\n",
      "    if order:\n",
      "        weights = np.array([i for i in prod(range(min_weight, max_weight+1), repeat=n)], \n",
      "                           dtype=np.int)\n",
      "    else:\n",
      "        weights = np.array([i for i in comb(range(min_weight, max_weight+1), n)], \n",
      "                           dtype=np.int)\n",
      "            \n",
      "    integration = np.dot(weights, ipt)\n",
      "    \n",
      "    return integration, weights"
     ],
     "language": "python",
     "metadata": {},
     "outputs": [],
     "prompt_number": 52
    },
    {
     "cell_type": "code",
     "collapsed": false,
     "input": [
      "%run func.py\n",
      "integration_result(2, 0, 2)"
     ],
     "language": "python",
     "metadata": {},
     "outputs": [
      {
       "metadata": {},
       "output_type": "pyout",
       "prompt_number": 53,
       "text": [
        "(array([[0, 0, 0, 0],\n",
        "       [0, 0, 1, 1],\n",
        "       [0, 0, 2, 2],\n",
        "       [0, 1, 0, 1],\n",
        "       [0, 1, 1, 2],\n",
        "       [0, 1, 2, 3],\n",
        "       [0, 2, 0, 2],\n",
        "       [0, 2, 1, 3],\n",
        "       [0, 2, 2, 4]]),\n",
        " array([[0, 0],\n",
        "       [0, 1],\n",
        "       [0, 2],\n",
        "       [1, 0],\n",
        "       [1, 1],\n",
        "       [1, 2],\n",
        "       [2, 0],\n",
        "       [2, 1],\n",
        "       [2, 2]]))"
       ]
      }
     ],
     "prompt_number": 53
    },
    {
     "cell_type": "code",
     "collapsed": false,
     "input": [
      "integration_result(2, 0, 2, order=False)"
     ],
     "language": "python",
     "metadata": {},
     "outputs": [
      {
       "metadata": {},
       "output_type": "pyout",
       "prompt_number": 54,
       "text": [
        "(array([[0, 0, 0, 0],\n",
        "       [0, 0, 1, 1],\n",
        "       [0, 0, 2, 2],\n",
        "       [0, 1, 1, 2],\n",
        "       [0, 1, 2, 3],\n",
        "       [0, 2, 2, 4]]),\n",
        " array([[0, 0],\n",
        "       [0, 1],\n",
        "       [0, 2],\n",
        "       [1, 1],\n",
        "       [1, 2],\n",
        "       [2, 2]]))"
       ]
      }
     ],
     "prompt_number": 54
    },
    {
     "cell_type": "heading",
     "level": 1,
     "metadata": {},
     "source": [
      "Thresholding the result"
     ]
    },
    {
     "cell_type": "markdown",
     "metadata": {},
     "source": [
      "The last step is to threshold the result of this integration to obtain the number of threshold and positive representative function."
     ]
    },
    {
     "cell_type": "code",
     "collapsed": false,
     "input": [
      "def threshold_integration(integration, weights, min_threshold, max_threshold):\n",
      "    \"\"\"Threshold the result of an integration and output the result\"\"\"\n",
      "    int_0 = integration.shape[0]\n",
      "    int_1 = integration.shape[1]\n",
      "    #Because lists end one time before the max_threshold\n",
      "    n_threshold = max_threshold - min_threshold + 1\n",
      "    functions = np.zeros((int_0 * n_threshold,\n",
      "                       int_1), dtype=np.int)\n",
      "    parameters = np.zeros((int_0 * n_threshold,\n",
      "                           weights.shape[1] + 1), dtype=np.int)\n",
      "    for i in range(min_threshold, max_threshold + 1):\n",
      "        thresholds = np.ones((weights.shape[0],1)) * i\n",
      "        i_s = i - min_threshold\n",
      "        parameters[i_s*int_0:(i_s+1)*int_0,:] = np.concatenate((weights, thresholds), axis=1)\n",
      "        functions[i_s*int_0:(i_s+1)*int_0,:] = integration >= i\n",
      "\n",
      "    return functions, parameters"
     ],
     "language": "python",
     "metadata": {},
     "outputs": [],
     "prompt_number": 55
    },
    {
     "cell_type": "markdown",
     "metadata": {},
     "source": [
      "Decomposing these two functions (integration and threhsolding) enable to not have to recompute the integration each time that would be a waste of computing time. The integration in an object will be smooth in this case (see two examples below)"
     ]
    },
    {
     "cell_type": "code",
     "collapsed": false,
     "input": [
      "integration, weights = integration_result(2, 0, 2)"
     ],
     "language": "python",
     "metadata": {},
     "outputs": [],
     "prompt_number": 56
    },
    {
     "cell_type": "code",
     "collapsed": false,
     "input": [
      "output, parameters = threshold_integration(integration, weights, 0, 1)\n",
      "print parameters"
     ],
     "language": "python",
     "metadata": {},
     "outputs": [
      {
       "output_type": "stream",
       "stream": "stdout",
       "text": [
        "[[0 0 0]\n",
        " [0 1 0]\n",
        " [0 2 0]\n",
        " [1 0 0]\n",
        " [1 1 0]\n",
        " [1 2 0]\n",
        " [2 0 0]\n",
        " [2 1 0]\n",
        " [2 2 0]\n",
        " [0 0 1]\n",
        " [0 1 1]\n",
        " [0 2 1]\n",
        " [1 0 1]\n",
        " [1 1 1]\n",
        " [1 2 1]\n",
        " [2 0 1]\n",
        " [2 1 1]\n",
        " [2 2 1]]\n"
       ]
      }
     ],
     "prompt_number": 57
    },
    {
     "cell_type": "code",
     "collapsed": false,
     "input": [
      "output, parameters = threshold_integration(integration, weights, 0, 2)\n",
      "print parameters"
     ],
     "language": "python",
     "metadata": {},
     "outputs": [
      {
       "output_type": "stream",
       "stream": "stdout",
       "text": [
        "[[0 0 0]\n",
        " [0 1 0]\n",
        " [0 2 0]\n",
        " [1 0 0]\n",
        " [1 1 0]\n",
        " [1 2 0]\n",
        " [2 0 0]\n",
        " [2 1 0]\n",
        " [2 2 0]\n",
        " [0 0 1]\n",
        " [0 1 1]\n",
        " [0 2 1]\n",
        " [1 0 1]\n",
        " [1 1 1]\n",
        " [1 2 1]\n",
        " [2 0 1]\n",
        " [2 1 1]\n",
        " [2 2 1]\n",
        " [0 0 2]\n",
        " [0 1 2]\n",
        " [0 2 2]\n",
        " [1 0 2]\n",
        " [1 1 2]\n",
        " [1 2 2]\n",
        " [2 0 2]\n",
        " [2 1 2]\n",
        " [2 2 2]]\n"
       ]
      }
     ],
     "prompt_number": 58
    },
    {
     "cell_type": "heading",
     "level": 1,
     "metadata": {},
     "source": [
      "Uniquifying functions"
     ]
    },
    {
     "cell_type": "markdown",
     "metadata": {},
     "source": [
      "To not have a redundant set we lastly uniquify the rows of the 2-D array."
     ]
    },
    {
     "cell_type": "code",
     "collapsed": false,
     "input": [
      "import numpy as np\n",
      "def uniquify_function(functions, parameters):\n",
      "    \"\"\"uniquify the list of function and the associated parameters\n",
      "    take from a stackoverflow thread\"\"\"\n",
      "    temp = np.ascontiguousarray(functions)\n",
      "    temp = temp.view(np.dtype((np.void, functions.dtype.itemsize * functions.shape[1])))\n",
      "    _, idx = np.unique(temp, return_index=True)\n",
      "\n",
      "    functions = functions[idx]\n",
      "    parameters = parameters[idx]\n",
      "\n",
      "    return functions, parameters"
     ],
     "language": "python",
     "metadata": {},
     "outputs": [],
     "prompt_number": 59
    },
    {
     "cell_type": "code",
     "collapsed": false,
     "input": [
      "integration, weights = integration_result(5, 0, 5)\n",
      "output, parameters = threshold_integration(integration, weights, 0, 9)\n",
      "functions, u_parameters = uniquify_function(output, parameters)\n",
      "len(functions)"
     ],
     "language": "python",
     "metadata": {},
     "outputs": [
      {
       "metadata": {},
       "output_type": "pyout",
       "prompt_number": 60,
       "text": [
        "3287"
       ]
      }
     ],
     "prompt_number": 60
    },
    {
     "cell_type": "markdown",
     "metadata": {},
     "source": [
      "One can check in the book of muroga that this number of functions match the number of threshold functions of n and or fewer variables. The next step is see how much these functions approximate the FBP."
     ]
    },
    {
     "cell_type": "heading",
     "level": 1,
     "metadata": {},
     "source": [
      "Select a subset of vectors to classify"
     ]
    },
    {
     "cell_type": "code",
     "collapsed": false,
     "input": [
      "def select_subset(ipt, sparsity):\n",
      "    tests = np.sum(ipt, axis=1) == sparsity\n",
      "    selection = [i for i, test in enumerate(tests) if test]\n",
      "    return np.array(selection, dtype=np.int)\n",
      "\n",
      "def select_function(selection, functions):\n",
      "    return uniquify_function(functions[:, selection], functions)\n",
      "    "
     ],
     "language": "python",
     "metadata": {},
     "outputs": [],
     "prompt_number": 185
    },
    {
     "cell_type": "heading",
     "level": 1,
     "metadata": {},
     "source": [
      "Generate the FBP for any vector size and any subset of vectors"
     ]
    },
    {
     "cell_type": "code",
     "collapsed": false,
     "input": [
      "import re\n",
      "import numpy as np\n",
      "def generating_fbp(n, s=None):\n",
      "    \"\"\"generate the fbp\"\"\"\n",
      "    exp0 = r\"[0-1]{%d}1{%d}\"%(n/2, n/2)\n",
      "    exp1 = r\"1{%d}[0-1]{%d}\"%(n/2, n/2)\n",
      "    ipt = np.arange(2**n)\n",
      "    if s:\n",
      "        #Select only a subset of vectors\n",
      "        ipt = iptgen(n)\n",
      "        ipt = select_subset(ipt, s)\n",
      "    fbp = np.zeros(len(ipt), dtype=np.int)\n",
      "    for i, cipt in enumerate(ipt):\n",
      "        bin_i = np.binary_repr(cipt, n)\n",
      "        #Test if it match one of the patterns\n",
      "        if re.match(exp0, bin_i):\n",
      "            fbp[i]=1\n",
      "        if re.match(exp1, bin_i):\n",
      "            fbp[i]=1\n",
      "    return fbp"
     ],
     "language": "python",
     "metadata": {},
     "outputs": [],
     "prompt_number": 191
    },
    {
     "cell_type": "markdown",
     "metadata": {},
     "source": [
      "To see how well the feature binding problem (FBP) can be approximated we need to have a systematic way to generate it. This is what the following function is doing."
     ]
    },
    {
     "cell_type": "code",
     "collapsed": false,
     "input": [
      "ipt = iptgen(4)\n",
      "ipt[select_subset(iptgen(4),2)]"
     ],
     "language": "python",
     "metadata": {},
     "outputs": [
      {
       "metadata": {},
       "output_type": "pyout",
       "prompt_number": 192,
       "text": [
        "array([[0, 0, 1, 1],\n",
        "       [0, 1, 0, 1],\n",
        "       [0, 1, 1, 0],\n",
        "       [1, 0, 0, 1],\n",
        "       [1, 0, 1, 0],\n",
        "       [1, 1, 0, 0]])"
       ]
      }
     ],
     "prompt_number": 192
    },
    {
     "cell_type": "code",
     "collapsed": false,
     "input": [
      "generating_fbp(6,3)"
     ],
     "language": "python",
     "metadata": {},
     "outputs": [
      {
       "metadata": {},
       "output_type": "pyout",
       "prompt_number": 193,
       "text": [
        "array([1, 0, 0, 0, 0, 0, 0, 0, 0, 0, 0, 0, 0, 0, 0, 0, 0, 0, 0, 1])"
       ]
      }
     ],
     "prompt_number": 193
    },
    {
     "cell_type": "heading",
     "level": 1,
     "metadata": {},
     "source": [
      "Wrap everything into an object"
     ]
    },
    {
     "cell_type": "code",
     "collapsed": false,
     "input": [
      "%run func.py\n",
      "test = PossibleSetTlu()\n",
      "test.show()"
     ],
     "language": "python",
     "metadata": {},
     "outputs": [
      {
       "output_type": "stream",
       "stream": "stdout",
       "text": [
        "ipt\n",
        "trait_added\n",
        "trait_added\n",
        "functions\n",
        "parameters\n",
        "trait_added\n",
        "trait_added\n"
       ]
      },
      {
       "metadata": {},
       "output_type": "display_data",
       "png": "[encoded data removed]",
       "text": [
        "<matplotlib.figure.Figure at 0x4066f50>"
       ]
      }
     ],
     "prompt_number": 65
    },
    {
     "cell_type": "code",
     "collapsed": false,
     "input": [
      "%run func.py\n",
      "test = PossibleSetTlu()\n",
      "test.sparsity = 2"
     ],
     "language": "python",
     "metadata": {},
     "outputs": [],
     "prompt_number": 68
    },
    {
     "cell_type": "code",
     "collapsed": false,
     "input": [
      "test.show()"
     ],
     "language": "python",
     "metadata": {},
     "outputs": [
      {
       "metadata": {},
       "output_type": "display_data",
       "png": "[encoded data removed]",
       "text": [
        "<matplotlib.figure.Figure at 0x3b408d0>"
       ]
      }
     ],
     "prompt_number": 69
    },
    {
     "cell_type": "markdown",
     "metadata": {},
     "source": [
      "The final step is to select a subset a inputs for certain vectors. The simplest method is to select only certain columns from the functions set we previously generate, to uniquify the rows of this set, and to determine the (false alarms, hits) couples, et voila!"
     ]
    },
    {
     "cell_type": "heading",
     "level": 1,
     "metadata": {},
     "source": [
      "Study for vectors of size 6"
     ]
    },
    {
     "cell_type": "markdown",
     "metadata": {},
     "source": [
      "In the previous section we have shown that we can work with set of vectors of size six with reliable result. Now we want to generate the complete set of positive threshold functions (not only representative). It can take much longer to generate than the set of representative function due to the combinatorial explosion. Indeed there are around 5 millions parameter set to explore. This is not a tractable way of generating all the functions."
     ]
    },
    {
     "cell_type": "code",
     "collapsed": false,
     "input": [
      "%run func.py\n",
      "perms = gperms(6)"
     ],
     "language": "python",
     "metadata": {},
     "outputs": [],
     "prompt_number": 134
    },
    {
     "cell_type": "code",
     "collapsed": false,
     "input": [
      "po0 = possible_set.functions.shape[0]\n",
      "po1 = possible_set.functions.shape[1]\n",
      "pe0 = perms.shape[0]\n",
      "all_functions = np.zeros((po0*pe0, po1), dtype=np.int)\n",
      "for i in range(po0):\n",
      "    all_functions[i*pe0:(i+1)*pe0,:] = possible_set.functions[i][perms]"
     ],
     "language": "python",
     "metadata": {},
     "outputs": [],
     "prompt_number": 149
    },
    {
     "cell_type": "code",
     "collapsed": false,
     "input": [
      "u_functions, temp = uniquify_function(all_functions,all_functions)"
     ],
     "language": "python",
     "metadata": {},
     "outputs": [],
     "prompt_number": 155
    },
    {
     "cell_type": "code",
     "collapsed": false,
     "input": [
      "u_functions.shape"
     ],
     "language": "python",
     "metadata": {},
     "outputs": [
      {
       "metadata": {},
       "output_type": "pyout",
       "prompt_number": 156,
       "text": [
        "(244158, 64)"
       ]
      }
     ],
     "prompt_number": 156
    },
    {
     "cell_type": "code",
     "collapsed": false,
     "input": [
      "FBP = generating_fbp(6)\n",
      "couples = []\n",
      "for f in u_functions:\n",
      "    couples.append(signal_theory_analysis(FBP, f))\n",
      "unique(couples)\n",
      "couples = np.array(couples)\n",
      "\n",
      "fig = plt.figure()\n",
      "ax = fig.add_subplot(1,1,1)\n",
      "plt.scatter(couples[:,0], couples[:,1], marker='s')\n",
      "ax.set_xlim(0,1)\n",
      "ax.set_ylim(0,1)\n",
      "ax.set_xlabel('False alarm')\n",
      "ax.set_ylabel('Hits')"
     ],
     "language": "python",
     "metadata": {},
     "outputs": [
      {
       "metadata": {},
       "output_type": "pyout",
       "prompt_number": 159,
       "text": [
        "<matplotlib.text.Text at 0x3e0c210>"
       ]
      },
      {
       "metadata": {},
       "output_type": "display_data",
       "png": "[encoded data removed]",
       "text": [
        "<matplotlib.figure.Figure at 0x405fe90>"
       ]
      }
     ],
     "prompt_number": 159
    },
    {
     "cell_type": "code",
     "collapsed": false,
     "input": [
      "selection = select_subset(possible_set.ipt,3)\n",
      "u_sub_f, u_f = select_function(selection, u_functions)"
     ],
     "language": "python",
     "metadata": {},
     "outputs": [],
     "prompt_number": 170
    },
    {
     "cell_type": "code",
     "collapsed": false,
     "input": [
      "FBP = generating_fbp(6, 3)\n",
      "couples = []\n",
      "for f in u_sub_f:\n",
      "    couples.append(signal_theory_analysis(FBP, f))\n",
      "unique(couples)\n",
      "couples = np.array(couples)\n",
      "\n",
      "fig = plt.figure()\n",
      "ax = fig.add_subplot(1,1,1)\n",
      "plt.scatter(couples[:,0], couples[:,1], marker='s')\n",
      "ax.set_xlim(0,1)\n",
      "ax.set_ylim(0,1)\n",
      "ax.set_xlabel('False alarm')\n",
      "ax.set_ylabel('Hits')"
     ],
     "language": "python",
     "metadata": {},
     "outputs": [
      {
       "metadata": {},
       "output_type": "pyout",
       "prompt_number": 194,
       "text": [
        "<matplotlib.text.Text at 0x1e8a8fd0>"
       ]
      },
      {
       "metadata": {},
       "output_type": "display_data",
       "png": "[encoded data removed]",
       "text": [
        "<matplotlib.figure.Figure at 0x1e8804d0>"
       ]
      }
     ],
     "prompt_number": 194
    },
    {
     "cell_type": "heading",
     "level": 1,
     "metadata": {},
     "source": [
      "A little step further: number of functions depending on sparsity"
     ]
    },
    {
     "cell_type": "markdown",
     "metadata": {},
     "source": [
      "Here we plot the figures that are in the article but might not be in the poster. They describe the number of classifiction on a set of vector all containing the same number of 1s. The first step is to generate all classification possible with binary positive weights, and then with binary negative weights."
     ]
    },
    {
     "cell_type": "code",
     "collapsed": false,
     "input": [
      "%run func.py\n",
      "possible_set = PossibleSetTlu()\n",
      "possible_set.order = False\n",
      "possible_set.n = 6\n",
      "possible_set.w_max = 9\n",
      "possible_set.t_max = 18\n",
      "len(possible_set.functions)"
     ],
     "language": "python",
     "metadata": {},
     "outputs": [
      {
       "metadata": {},
       "output_type": "pyout",
       "prompt_number": 131,
       "text": [
        "1113"
       ]
      }
     ],
     "prompt_number": 131
    },
    {
     "cell_type": "code",
     "collapsed": false,
     "input": [
      "%run func.py\n",
      "possible_set = PossibleSetTlu(order=False, n=6, w_max=9)\n",
      "possible_set.t_max = 18\n",
      "\n",
      "for i in range(7):\n",
      "    possible_set.sparsity = i\n",
      "    print len(possible_set.sub_functions)"
     ],
     "language": "python",
     "metadata": {},
     "outputs": [
      {
       "output_type": "stream",
       "stream": "stdout",
       "text": [
        "2\n",
        "7\n",
        "32\n",
        "66\n",
        "32\n",
        "7\n",
        "2\n"
       ]
      }
     ],
     "prompt_number": 120
    },
    {
     "cell_type": "markdown",
     "metadata": {},
     "source": [
      "Strangely this is not what I expected, the number of function seems to be symmetric? In fact when the threshold value is lower than the maximal sum of the weights, the symmetry is broken! In other words this is only dependent on the threshold and not on the synaptic weights as I initially expected."
     ]
    }
   ],
   "metadata": {}
  }
 ]
}